{
  "nbformat": 4,
  "nbformat_minor": 0,
  "metadata": {
    "colab": {
      "provenance": [],
      "include_colab_link": true
    },
    "kernelspec": {
      "name": "python3",
      "display_name": "Python 3"
    },
    "language_info": {
      "name": "python"
    }
  },
  "cells": [
    {
      "cell_type": "markdown",
      "metadata": {
        "id": "view-in-github",
        "colab_type": "text"
      },
      "source": [
        "<a href=\"https://colab.research.google.com/github/JaspreetSingh10/GenAI/blob/main/PROJECT_ON_image_video_animation_generation.ipynb\" target=\"_parent\"><img src=\"https://colab.research.google.com/assets/colab-badge.svg\" alt=\"Open In Colab\"/></a>"
      ]
    },
    {
      "cell_type": "markdown",
      "source": [
        "# **Title** : **GENERATIVE AI FOR IMAGE AND VIDEO GENERATION**\n",
        "\n",
        "# **Brief description of the Project scope :**\n",
        "\n",
        "The project scope is to use the Replicate API to generate GIFs and photos automatically. We can change pictures or images, make visuals from what users say, and then share as PNG, JPEG, or GIF.We We can make the project better by adding movements, effects, and text layers. The goal is to make a platform that can be easily customized and used to make photos and GIFs automatically for art, marketing, and social networking.\n",
        "\n",
        "\n"
      ],
      "metadata": {
        "id": "ZWRrPYjU-FnH"
      }
    },
    {
      "cell_type": "markdown",
      "source": [
        "# **Group Members :**\n",
        "\n",
        "\n",
        "* Harshveer Singh Dhaliwal\n",
        "\n",
        "\n",
        "    Student id - 4357827\n",
        "* Jaspreet Singh\n",
        "\n",
        "\n",
        "    Student id - 4352927\n"
      ],
      "metadata": {
        "id": "8ugcCz4l9POS"
      }
    },
    {
      "cell_type": "markdown",
      "source": [
        "# **Detailed Project Description Cell**\n",
        "\n",
        "Incorporating the Replicate API, which generates images and GIFs dynamically, is part of this project. Alterations to images, filters, and text overlays are all under the user's control. Validation of input, optimization of efficiency, and support for PNG, JPEG, and GIF output formats are all guaranteed by it. This platform for automated visual content production is user-friendly and trustworthy thanks to comprehensive documentation, testing, and continuing maintenance.\n",
        "\n",
        "\n",
        "## **OBJECTIVES** :\n",
        "1. The Replicate API should be easily integrated to allow the production of dynamic images and GIFs.\n",
        "2. Give consumers a lot of control over how the graphics seem so they may make them fit their requirements.\n",
        "3. Make sure that input validation techniques are very strict to avoid mistakes and maintain data integrity.\n",
        "4. Make it easy to export, giving consumers the option to choose between PNG, JPEG, or GIF formats.\n",
        "5. Enhance performance for the purpose of creating GIFs and images quickly and efficiently.\n",
        "\n",
        "\n",
        "## **OUTCOMES**\n",
        "1. A visual content production platform that is easy to use and streamlines the process.\n",
        "2. Enhanced user engagement by offering visually attractive and highly adaptable content.\n",
        "3. Robust input validation approaches improve dependability and avoid errors.\n",
        "The ability to easily share and distribute created graphics thanks to flexible export choices.\n",
        "5. Enhanced processing capabilities provide quick transmission of photos and GIFs, improving efficiency and production.\n",
        "\n",
        "\n",
        "\n",
        "\n",
        "\n",
        "\n",
        "\n",
        "\n",
        "\n"
      ],
      "metadata": {
        "id": "SJNvsyvv-jM1"
      }
    },
    {
      "cell_type": "markdown",
      "source": [
        "# **Modification/New Addition Specification**\n",
        "\n",
        "1. Algorithmic Enhancements  : Use state-of-the-art algorithms, such as deep learning, to generate more coherent text or more realistic images. This will improve the overall quality of the material.\n",
        "\n",
        "2. Improve Efficiency  : Take use of caching, parallelize operations, and streamline processing pipelines to maximize resource utilization.\n",
        "\n",
        "3. Experimental Uses  : Try out new modalities like audio synthesis or 3D content creation, and investigate novel applications like medical imaging or tailored advertising.\n",
        "\n",
        "4. outline the desired results, metrics, and documentation for each change, including any relevant code snippets.\n",
        "\n",
        "5. Evaluation and Feedback  : Put changes through their paces in terms of performance and quality testing, and make sure they reach goals by collecting feedback.\n",
        "\n",
        "\n",
        "\n",
        "## **Justification aand ipact of the modifications**\n",
        "\n",
        "Advanced algorithms like deep learning improve image synthesis and text generation, enhancing user experience. Efficiency improvements streamline processing pipelines, reducing computation time and costs. Innovative applications like medical imaging and personalized advertising open up new markets. Modification specifications define goals, outcomes, and metrics, while thorough testing ensures performance and quality.\n",
        "\n",
        "\n",
        "\n"
      ],
      "metadata": {
        "id": "DDwC-cRK2C_x"
      }
    },
    {
      "cell_type": "markdown",
      "source": [
        "# **Criteria-Specific Cell**\n",
        "\n",
        "## **Relevance :**\n",
        "\n",
        "Improvements to algorithms, efficiency, novel applications, change specifications, and evaluation/feedback procedures demonstrate that the project is in line with the requirements. The demands and goals of the GenAI platform are met by every component, guaranteeing that resources are focused towards areas important to its growth and success.\n",
        "\n",
        "##**Application**\n",
        "Through the use of cutting-edge algorithms such as deep learning for content generation, optimization of processing pipelines for efficiency, exploration of new applications to broaden market reach, clear definition of modification goals and outcomes, and gathering of user feedback for iterative improvements, the project successfully applies the criteria-specific elements. These apps improve the platform's features and the way users interact with it.\n",
        "## **Innovation**\n",
        "\n",
        "Utilizing state-of-the-art algorithms, investigating unanticipated use cases, and incorporating fresh approaches to optimization and user interaction are all ways in which the project showcases innovation. The project remains ahead of the curve and promotes continual development and progress inside the GenAI platform by pushing the frontiers of AI technology.\n",
        "\n",
        "## **Technical proficiency**\n",
        "\n",
        "The project's technical brilliance is on full display in the way it deftly navigates intricate optimization methodologies, modification requirements, and algorithms. The team demonstrates mastery in executing cutting-edge AI methods, effectively managing resources, and guaranteeing strong evaluation and feedback systems. The success of the project in producing high-quality products and keeping users satisfied is guaranteed by this technological skill.\n",
        "\n",
        "\n",
        "\n",
        "\n",
        "\n"
      ],
      "metadata": {
        "id": "6cfvQgVYFl6W"
      }
    },
    {
      "cell_type": "markdown",
      "source": [
        "# **1. Installing Replicate**\n",
        "\n",
        "In order to use the Replicate library's features in a coding environment, the first step is to install it. Doing so guarantees that all required dependencies are easily accessible for the tasks that follow. The code snippet gets the job done by using the pip package manager to fetch and install the Replicate library and all of its dependencies. This first stage ensures that the Replicate API is accessible and that its capabilities are used efficiently across the project.\n",
        "\n",
        "\n",
        "\n",
        "\n",
        "\n"
      ],
      "metadata": {
        "id": "vKzL0U3a6wlx"
      }
    },
    {
      "cell_type": "code",
      "execution_count": 1,
      "metadata": {
        "colab": {
          "base_uri": "https://localhost:8080/"
        },
        "id": "CjlbJnxO2w-h",
        "outputId": "6ca4be51-ff9c-44b4-aac7-9ff6d8fa083e"
      },
      "outputs": [
        {
          "output_type": "stream",
          "name": "stdout",
          "text": [
            "Collecting replicate\n",
            "  Downloading replicate-0.25.1-py3-none-any.whl (39 kB)\n",
            "Collecting httpx<1,>=0.21.0 (from replicate)\n",
            "  Downloading httpx-0.27.0-py3-none-any.whl (75 kB)\n",
            "\u001b[2K     \u001b[90m━━━━━━━━━━━━━━━━━━━━━━━━━━━━━━━━━━━━━━━━\u001b[0m \u001b[32m75.6/75.6 kB\u001b[0m \u001b[31m3.6 MB/s\u001b[0m eta \u001b[36m0:00:00\u001b[0m\n",
            "\u001b[?25hRequirement already satisfied: packaging in /usr/local/lib/python3.10/dist-packages (from replicate) (24.0)\n",
            "Requirement already satisfied: pydantic>1.10.7 in /usr/local/lib/python3.10/dist-packages (from replicate) (2.6.4)\n",
            "Requirement already satisfied: typing-extensions>=4.5.0 in /usr/local/lib/python3.10/dist-packages (from replicate) (4.10.0)\n",
            "Requirement already satisfied: anyio in /usr/local/lib/python3.10/dist-packages (from httpx<1,>=0.21.0->replicate) (3.7.1)\n",
            "Requirement already satisfied: certifi in /usr/local/lib/python3.10/dist-packages (from httpx<1,>=0.21.0->replicate) (2024.2.2)\n",
            "Collecting httpcore==1.* (from httpx<1,>=0.21.0->replicate)\n",
            "  Downloading httpcore-1.0.5-py3-none-any.whl (77 kB)\n",
            "\u001b[2K     \u001b[90m━━━━━━━━━━━━━━━━━━━━━━━━━━━━━━━━━━━━━━━━\u001b[0m \u001b[32m77.9/77.9 kB\u001b[0m \u001b[31m8.2 MB/s\u001b[0m eta \u001b[36m0:00:00\u001b[0m\n",
            "\u001b[?25hRequirement already satisfied: idna in /usr/local/lib/python3.10/dist-packages (from httpx<1,>=0.21.0->replicate) (3.6)\n",
            "Requirement already satisfied: sniffio in /usr/local/lib/python3.10/dist-packages (from httpx<1,>=0.21.0->replicate) (1.3.1)\n",
            "Collecting h11<0.15,>=0.13 (from httpcore==1.*->httpx<1,>=0.21.0->replicate)\n",
            "  Downloading h11-0.14.0-py3-none-any.whl (58 kB)\n",
            "\u001b[2K     \u001b[90m━━━━━━━━━━━━━━━━━━━━━━━━━━━━━━━━━━━━━━━━\u001b[0m \u001b[32m58.3/58.3 kB\u001b[0m \u001b[31m5.1 MB/s\u001b[0m eta \u001b[36m0:00:00\u001b[0m\n",
            "\u001b[?25hRequirement already satisfied: annotated-types>=0.4.0 in /usr/local/lib/python3.10/dist-packages (from pydantic>1.10.7->replicate) (0.6.0)\n",
            "Requirement already satisfied: pydantic-core==2.16.3 in /usr/local/lib/python3.10/dist-packages (from pydantic>1.10.7->replicate) (2.16.3)\n",
            "Requirement already satisfied: exceptiongroup in /usr/local/lib/python3.10/dist-packages (from anyio->httpx<1,>=0.21.0->replicate) (1.2.0)\n",
            "Installing collected packages: h11, httpcore, httpx, replicate\n",
            "Successfully installed h11-0.14.0 httpcore-1.0.5 httpx-0.27.0 replicate-0.25.1\n"
          ]
        }
      ],
      "source": [
        "# @title Install Replicate\n",
        "!pip install replicate\n"
      ]
    },
    {
      "cell_type": "markdown",
      "source": [
        "# **2. Setting Up API Token**\n",
        "\n",
        "The next line of code snippet authenticates the user by setting a variable with the Replicate API token. Tokens like this one make it possible to use Replicate's services. The project guarantees approved and secure interaction with the Replicate API by importing the required module and configuring the API token inside the code environment. You can't begin creating images or GIFs or communicating with Replicate's servers until you do this."
      ],
      "metadata": {
        "id": "-EtGiSrD69zX"
      }
    },
    {
      "cell_type": "code",
      "source": [
        "API = \"r8_Sq0vcs3VVWpsyWkzW8zK4WLygvOBHLZ0MYzh8\"\n",
        "import os\n",
        "\n",
        "os.environ[\"REPLICATE_API_TOKEN\"] = API #find it here: https://replicate.com/signin?next=/account/api-tokens\n"
      ],
      "metadata": {
        "id": "zX0YyZI_3dx6"
      },
      "execution_count": 2,
      "outputs": []
    },
    {
      "cell_type": "markdown",
      "source": [
        "# **3. Generating Image**\n",
        "The code snippet now uses the Replicate library to create an image according to the given prompt. The meaning of the image-generating prompt, \"man picking up a stone,\" is set out by the prompt. The code starts the process of creating images using Replicate's AI model by using the'replicate.run()' method with the correct arguments, such as the prompt and model information. The produced picture is saved in the output variable and may be seen or processed later on in the project. At this point, the Replicate API's ability to generate visual content from user input is shown.\n"
      ],
      "metadata": {
        "id": "sH5YFxFX7NVP"
      }
    },
    {
      "cell_type": "code",
      "source": [
        "# @title Generate Image\n",
        "prompt = \"woman is holding an apple\"\n",
        "import replicate\n",
        "\n",
        "output = replicate.run(\n",
        "  \"stability-ai/stable-diffusion:27b93a2413e7f36cd83da926f3656280b2931564ff050bf9575f1fdf9bcd7478\",\n",
        "  input={\"prompt\":prompt}\n",
        ")\n",
        "\n",
        "output"
      ],
      "metadata": {
        "colab": {
          "base_uri": "https://localhost:8080/"
        },
        "id": "b9jB54-K3p48",
        "outputId": "82883ebf-5aab-4ba7-b885-d1091a4ae32a"
      },
      "execution_count": 3,
      "outputs": [
        {
          "output_type": "execute_result",
          "data": {
            "text/plain": [
              "['https://replicate.delivery/pbxt/tQuY63u15VJjI93bvg3LX2FsnGdfpADeNwaMLXeACTGsGgJlA/out-0.png']"
            ]
          },
          "metadata": {},
          "execution_count": 3
        }
      ]
    },
    {
      "cell_type": "markdown",
      "source": [
        "# **4. Displaying Generated Image**\n",
        "\n",
        "Here is where the code snippet gets its hands on the module that Jupyter Notebook needs to show pictures. The project may effortlessly display the created picture to the user by employing the picture class from the IPython.display module. After the preceding step, a picture is created and saved in the output_image variable with its URL. The code generates and shows the created picture inside the notebook by supplying this URL to the picture class. In this stage, users are able to see feedback on the created content in the project environment, which improves their involvement with the content.\n",
        "\n",
        "\n",
        "\n",
        "\n",
        "\n",
        "\n",
        "\n"
      ],
      "metadata": {
        "id": "kw6QYycd7SVR"
      }
    },
    {
      "cell_type": "code",
      "source": [
        "from IPython.display import Image\n",
        "output_image = output\n",
        "Image(url=output_image[0])"
      ],
      "metadata": {
        "colab": {
          "base_uri": "https://localhost:8080/",
          "height": 534
        },
        "id": "7JWCVDHf3sYu",
        "outputId": "2aabae63-6029-401c-d081-6c638c723c4b"
      },
      "execution_count": 4,
      "outputs": [
        {
          "output_type": "execute_result",
          "data": {
            "text/html": [
              "<img src=\"https://replicate.delivery/pbxt/tQuY63u15VJjI93bvg3LX2FsnGdfpADeNwaMLXeACTGsGgJlA/out-0.png\"/>"
            ],
            "text/plain": [
              "<IPython.core.display.Image object>"
            ]
          },
          "metadata": {},
          "execution_count": 4
        }
      ]
    },
    {
      "cell_type": "markdown",
      "source": [
        "# **5. Generating GIF Animation**\n",
        "\n",
        "Using the Replicate library, the code snippet above creates an animated GIF in response to user input. The animation generating method needs two inputs, \"man picking up a stone\" and \"man throws stone,\" to begin and end, respectively. The code starts the animation generating process using Replicate's AI model by using the replicate.run() method with the correct arguments, such as the prompts and the desired output format (GIF).\n",
        "\n",
        "Furthermore, to increase the visual appeal, the gif_ping_pong option is set to True, resulting in a ping-pong style looping animation. You may keep the created GIF animation in the output variable and use it for whatever you need it for in your project. The Replicate API's flexibility in creating user-defined inputs-based dynamic visual content, including animations, is shown in this phase.\n",
        "\n",
        "\n",
        "\n",
        "\n",
        "\n",
        "\n",
        "\n"
      ],
      "metadata": {
        "id": "U4dvFuOo7oxG"
      }
    },
    {
      "cell_type": "code",
      "source": [
        "# @title Video/gif/animation/Generation\n",
        "import replicate\n",
        "\n",
        "output = replicate.run(\n",
        "    \"andreasjansson/stable-diffusion-animation:ca1f5e306e5721e19c473e0d094e6603f0456fe759c10715fcd6c1b79242d4a5\",\n",
        "    input={\n",
        "        \"prompt_start\": \"woman is holding an apple\",\n",
        "        \"prompt_end\": \"woman puts the apple on the table\",\n",
        "        \"output_format\": \"gif\",\n",
        "        \"gif_ping_pong\": True\n",
        "    }\n",
        ")\n",
        "\n",
        "output\n"
      ],
      "metadata": {
        "colab": {
          "base_uri": "https://localhost:8080/"
        },
        "id": "6Owfxz0V3uov",
        "outputId": "44ce65a4-efc6-4c7b-b440-29c13564cfe4"
      },
      "execution_count": 5,
      "outputs": [
        {
          "output_type": "execute_result",
          "data": {
            "text/plain": [
              "<generator object Prediction.output_iterator at 0x7efe4203a490>"
            ]
          },
          "metadata": {},
          "execution_count": 5
        }
      ]
    },
    {
      "cell_type": "markdown",
      "source": [
        "# **6. Processing Generated Video**\n",
        "\n",
        "In this part, the code snippet iterates through the output obtained from the previous step, containing information about the generated video. Each item in the output corresponds to a specific aspect of the generated animation, such as metadata or the URL pointing to the generated video file.\n",
        "\n",
        "By iterating through the output and printing each item, the project gains insights into the structure and content of the generated video, facilitating further processing or analysis as needed. This step sets the stage for subsequent actions, such as downloading or displaying the generated video within the project environment.\n",
        "\n",
        "\n",
        "\n",
        "\n",
        "\n"
      ],
      "metadata": {
        "id": "5G1iqzb-76Jo"
      }
    },
    {
      "cell_type": "code",
      "source": [
        "# @title generate video\n",
        "for item in output:\n",
        "     #https://replicate.com/andreasjansson/stable-diffusion-animation/versions/ca1f5e306e5721e19c473e0d094e6603f0456fe759c10715fcd6c1b79242d4a5/api#output-schema\n",
        "    print(item)"
      ],
      "metadata": {
        "colab": {
          "base_uri": "https://localhost:8080/"
        },
        "id": "1bkyp74E3wcl",
        "outputId": "3be9aa49-f60a-4a75-9395-9849a7af7dec"
      },
      "execution_count": 6,
      "outputs": [
        {
          "output_type": "stream",
          "name": "stdout",
          "text": [
            "https://replicate.delivery/pbxt/gI6gPctDS65WHNYFw4oVbihTf3LnlxVTS3WXVKBXlJA8DYSJA/video.gif\n"
          ]
        }
      ]
    },
    {
      "cell_type": "markdown",
      "source": [
        "# **7. Retrieving Video for Colab**\n",
        "\n",
        "To enable the viewing of the created video file inside the Colab environment, the code snippet fetches its URL in this part. To provide direct access to the produced video material, the URL acquired in the previous step is set to the gif_url variable.\n",
        "\n",
        "The project may easily retrieve the video file for processing or display by saving the URL in a variable. This phase allows the produced video to be easily integrated into the Colab notebook, which improves the project environment's visualization and user interaction capabilities.\n",
        "\n",
        "\n"
      ],
      "metadata": {
        "id": "WK4etb_78Jq2"
      }
    },
    {
      "cell_type": "code",
      "source": [
        "# @title get the video on colab\n",
        "gif_url= item[0:len(item)]"
      ],
      "metadata": {
        "id": "exOI3-Rd3yn8"
      },
      "execution_count": 7,
      "outputs": []
    },
    {
      "cell_type": "markdown",
      "source": [
        "# **8. Displaying the Video**\n",
        "\n",
        "Finally, the code snippet shows the created video file within the Colab environment after retrieving it from the given URL. To make sure the video material was successfully retrieved, we utilize the requests module and verify its status code.\n",
        "- If the response status code is 200, it means the movie was successfully shown using the Image class from the IPython.display module.\n",
        "- If you want to save the video for later use or analysis, you may do so locally in the Colab environment.\n",
        "\n",
        "The last step is to use the PIL.Image module to show the stored video. Having finished showing the created movie inside the Colab notebook, this phase allows users to interactively explore and analyze the visual material.\n",
        "\n",
        "\n",
        "\n",
        "\n",
        "\n",
        "\n"
      ],
      "metadata": {
        "id": "0J2u0K738Mk1"
      }
    },
    {
      "cell_type": "code",
      "source": [
        "# @title Show the video\n",
        "import requests\n",
        "from IPython.display import display, Image\n",
        "from PIL import Image as PILImage\n",
        "from io import BytesIO\n",
        "response = requests.get(gif_url)\n",
        "if response.status_code == 200:\n",
        "    # To Ddisplay the GIF in the notebook\n",
        "    display(Image(url=gif_url))\n",
        "\n",
        "    # To save the GIF in the Colab environment\n",
        "    with open(\"gif_output.gif\", \"wb\") as f:\n",
        "        f.write(response.content)\n",
        "\n",
        "    # TO show a saved GIF using PIL\n",
        "    saved_gif = PILImage.open(\"gif_output.gif\")\n",
        "    saved_gif.show()\n",
        "else:\n",
        "    print(\"Failed to fetch GIF\")\n"
      ],
      "metadata": {
        "colab": {
          "base_uri": "https://localhost:8080/",
          "height": 534
        },
        "id": "whx-a5Ne319x",
        "outputId": "bae25e56-006e-48ca-9deb-a1f6f9b7f421"
      },
      "execution_count": 8,
      "outputs": [
        {
          "output_type": "display_data",
          "data": {
            "text/html": [
              "<img src=\"https://replicate.delivery/pbxt/gI6gPctDS65WHNYFw4oVbihTf3LnlxVTS3WXVKBXlJA8DYSJA/video.gif\"/>"
            ],
            "text/plain": [
              "<IPython.core.display.Image object>"
            ]
          },
          "metadata": {}
        }
      ]
    },
    {
      "cell_type": "markdown",
      "source": [
        "# **REFERENCES**\n",
        "\n",
        "* API Tokens from Replicate. https://replicate.com/account/api-tokens\n",
        "* turna1-GenAI. GitHub. https://github.com/turna1/GenAI/blob/main/image_video_animation_generation.ipynb\n",
        "* Welcome to Python.org https://www.python.org/\n",
        "* Arham, M. Text-2-Video Generation: Step-by-Step Guide - KDNuggets. KDnuggets. https://www.kdnuggets.com/2023/08/text2video-generation-stepbystep-guide.html\n"
      ],
      "metadata": {
        "id": "gdi6nuQbG9U6"
      }
    },
    {
      "cell_type": "markdown",
      "source": [
        "\n",
        "# **VIDEO PRESENTATION LINK**"
      ],
      "metadata": {
        "id": "NnHs-jd0HCvd"
      }
    },
    {
      "cell_type": "markdown",
      "source": [
        "\n",
        "# **Thank You**\n",
        "\n"
      ],
      "metadata": {
        "id": "HyYFTY6SLLok"
      }
    },
    {
      "cell_type": "markdown",
      "source": [
        "\n",
        "\n",
        "---\n",
        "\n"
      ],
      "metadata": {
        "id": "lhVLG8_Dy79P"
      }
    }
  ]
}